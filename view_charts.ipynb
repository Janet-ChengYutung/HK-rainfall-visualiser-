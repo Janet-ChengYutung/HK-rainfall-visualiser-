{
 "cells": [
  {
   "cell_type": "markdown",
   "id": "e46bf93c",
   "metadata": {},
   "source": [
    "# 簡易說明：Main.py (簡化版)\n",
    "# Quick explanation: Main.py (simplified)\n",
    "\n",
    "目的：簡單的 Pygame UI，顯示控制按鈕、1884–2025 年的滑桿，並載入/顯示 `rainfall_charts/` 裡的年度圖 (PNG)。\n",
    "Purpose: A simple Pygame UI that shows control buttons, a year slider (1884–2025), and loads/displays yearly charts from the `rainfall_charts/` folder (PNG files).\n",
    "\n",
    "主要功能：\n",
    "Main features:\n",
    "- 幾個按鈕：開始、停止、重新整理，以及一個切換顯示圖表的按鈕。\n",
    "- Buttons: start, stop, reload, and a toggle button to show/hide the chart.\n",
    "- 年份滑桿 (YearSlider)：選擇年份，會排除 1940–1946 年（會自動貼齊到 1939 或 1947）。\n",
    "- Year slider (YearSlider): pick a year. Years 1940–1946 are excluded and snap to 1939 or 1947.\n",
    "- 圖表顯示：載入 `rainfall_charts/rainfall_<year>.png`，會做等比例縮放並顯示在左下，使用者可用滑鼠拖動圖表到任意位置。\n",
    "- Chart display: loads `rainfall_charts/rainfall_<year>.png`, scales it proportionally, shows it at bottom-left by default, and allows the user to drag the chart with the mouse.\n",
    "\n",
    "快速可調參數（在 `Main.py` 找到並修改）：\n",
    "Quick tunable settings (in `Main.py`):\n",
    "- 圖檔資料夾：`rainfall_charts/`。\n",
    "- Chart folder: `rainfall_charts/`.\n",
    "- 縮放倍率：`enlarge_factor`（目前在程式中），可調更大的數值以提高可讀性。\n",
    "- Scale factor: `enlarge_factor` (change to a larger value to improve readability).\n",
    "- 最大顯示區域：`max_panel_w` / `max_panel_h`（目前為視窗的比例），調整可讓圖更接近原生解析度。\n",
    "- Max display area: `max_panel_w` / `max_panel_h` (currently set relative to the window).\n",
    "- 透明度：`alpha`（0-255），目前設定為不透明 (255)。\n",
    "- Opacity: `alpha` (0-255), currently set to opaque (255).\n",
    "\n",
    "執行方式：確保安裝 `pygame`，然後在專案根目錄執行：\n",
    "Run: make sure `pygame` is installed, then run from the project root:\n",
    "```\n",
    "python Main.py\n",
    "```\n",
    "\n",
    "注意：如果圖上文字仍模糊，代表 PNG 本身解析度不足，請用更高解析度重新產生或用 Pillow 放大（建議重新渲染為更高 DPI）。\n",
    "Note: If text on the chart is still blurry it means the PNG itself lacks sufficient pixel resolution — re-render at higher DPI or upscale with Pillow.\n",
    "\n",
    "需要我幫忙的選項：加上滑鼠滾輪/快捷鍵縮放、限制拖曳範圍、或自動以原生像素顯示（若能放得下）。告訴我想要哪一個，我會幫你修改程式碼。\n",
    "If you want help: I can add mouse-wheel/keyboard zoom, constrain dragging inside the window, or prefer native-pixel display when the image fits. Tell me which and I'll update the code."
   ]
  },
  {
   "cell_type": "code",
   "execution_count": null,
   "id": "4b77a904",
   "metadata": {},
   "outputs": [],
   "source": [
    "from pathlib import Path\n",
    "from IPython.display import display, Image\n",
    "import ipywidgets as widgets\n",
    "from PIL import Image as PILImage\n",
    "\n",
    "BASE = Path(__file__).parent\n",
    "CHART_DIR = BASE\n",
    "pngs = sorted([p for p in CHART_DIR.glob('rainfall_*.png')])\n",
    "pngs = [str(p) for p in pngs]\n",
    "len(pngs)"
   ]
  },
  {
   "cell_type": "code",
   "execution_count": null,
   "id": "bb32a61a",
   "metadata": {},
   "outputs": [],
   "source": [
    "if not pngs:\n",
    "    print('No rainfall_*.png files found in', CHART_DIR)\n",
    "else:\n",
    "    dd = widgets.Dropdown(options=pngs, description='Chart:')\n",
    "    out = widgets.Output()\n",
    "\n",
    "    def show_chart(change):\n",
    "        out.clear_output()\n",
    "        p = change['new']\n",
    "        if p is None:\n",
    "            return\n",
    "        with out:\n",
    "            display(Image(filename=p))\n",
    "\n",
    "    dd.observe(show_chart, names='value')\n",
    "    display(dd, out)\n",
    "    # show first by default\n",
    "    dd.value = pngs[0]"
   ]
  }
 ],
 "metadata": {
  "kernelspec": {
   "display_name": ".venv",
   "language": "python",
   "name": "python3"
  },
  "language_info": {
   "name": "python",
   "version": "3.13.7"
  }
 },
 "nbformat": 4,
 "nbformat_minor": 5
}
